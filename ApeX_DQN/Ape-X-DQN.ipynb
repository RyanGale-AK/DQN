{
 "cells": [
  {
   "cell_type": "code",
   "execution_count": null,
   "metadata": {},
   "outputs": [],
   "source": [
    "%load_ext autoreload\n",
    "%autoreload 2"
   ]
  },
  {
   "cell_type": "code",
   "execution_count": null,
   "metadata": {},
   "outputs": [],
   "source": [
    "import ray\n",
    "#ray.init(huge_pages=True, plasma_directory=\"/mnt/hugepages\")\n",
    "ray.init()\n",
    "@ray.remote(num_cpus=1,num_gpus=0)\n",
    "class ParameterServer():\n",
    "\tdef __init__(self):\n",
    "\t\tself.parameters = dict()\n",
    "\t\tself.parameters['q'] = dict()\n",
    "\n",
    "\tdef get(self):\n",
    "\t\treturn self.parameters\n",
    "\n",
    "\tdef put_Q_dict(self, new_q_dict):\n",
    "\t\tself.parameters['q'] = new_q_dict"
   ]
  },
  {
   "cell_type": "code",
   "execution_count": null,
   "metadata": {
    "scrolled": true
   },
   "outputs": [],
   "source": [
    "from actor import Actor\n",
    "from learner import Learner\n",
    "from replay import ReplayMemory\n",
    "\n",
    "num_actors = 3\n",
    "B = 50\n",
    "periodic_update_frequency = 400\n",
    "shared_experience_replay_size = 2 * 10 ** 6\n",
    "num_actions = 6\n",
    "env = 'PongNoFrameskip-v4'\n",
    "\n",
    "shared_memory = ReplayMemory.remote(shared_experience_replay_size, alpha=0.6)\n",
    "shared_state = ParameterServer.remote()\n",
    "\n",
    "learner = Learner.remote(num_actions, shared_memory = shared_memory, shared_state = shared_state)\n",
    "\n",
    "actors = [Actor.remote(i, env, shared_memory, shared_state, n=3) for i in range(num_actors)]"
   ]
  },
  {
   "cell_type": "code",
   "execution_count": null,
   "metadata": {},
   "outputs": [],
   "source": [
    "import time\n",
    "time.sleep(5)"
   ]
  },
  {
   "cell_type": "code",
   "execution_count": null,
   "metadata": {
    "scrolled": true
   },
   "outputs": [],
   "source": [
    "[a.run.remote(1000) for a in actors]#actors[0].run.remote(1000)"
   ]
  },
  {
   "cell_type": "code",
   "execution_count": null,
   "metadata": {
    "scrolled": true
   },
   "outputs": [],
   "source": [
    "learner.learn.remote(10000)"
   ]
  },
  {
   "cell_type": "code",
   "execution_count": null,
   "metadata": {},
   "outputs": [],
   "source": [
    "experience_batch = ray.get(shared_memory.sample.remote(32, 0.6))\n",
    "#new_priorities, loss = self.train(experience_batch)"
   ]
  },
  {
   "cell_type": "code",
   "execution_count": null,
   "metadata": {
    "scrolled": true
   },
   "outputs": [],
   "source": [
    "device = 'cuda'\n",
    "s,a,r,s_prime, gamma, qS_tpn, qS_t, key, weights, idxes = experience_batch\n",
    "#s,a,r,s_prime,done_mask,weights,idxes = experience_batch\n",
    "\n",
    "weights = torch.Tensor(weights).to(device)\n",
    "s = torch.as_tensor(s).to(device)\n",
    "a = torch.LongTensor(a).unsqueeze(1).to(device)\n",
    "r = torch.as_tensor(r).unsqueeze(1).to(device)\n",
    "s_prime = torch.as_tensor(s_prime).to(device)\n",
    "gamma = torch.Tensor(gamma).unsqueeze(1).to(device)"
   ]
  },
  {
   "cell_type": "code",
   "execution_count": null,
   "metadata": {},
   "outputs": [],
   "source": [
    "from models import Qnet\n",
    "q = Qnet(84,84,4,6).to(device)\n",
    "q_target = Qnet(84,84,4,6).to(device)"
   ]
  },
  {
   "cell_type": "code",
   "execution_count": null,
   "metadata": {},
   "outputs": [],
   "source": [
    "q_out = q(s)\n",
    "q_a = q_out.gather(1,a)\n",
    "\n",
    "argmax_q = q(s_prime).argmax(1).unsqueeze(1)\n",
    "q_prime = q_target(s_prime).gather(1,argmax_q)\n",
    "target = r + gamma * q_prime# * done_mask\n",
    "TD_errors = q_a - target\n",
    "with torch.no_grad():\n",
    "    new_priorities = np.abs(TD_errors.cpu()) + 10 ** -5\n",
    "loss = ((TD_errors ** 2).view(-1) * weights).mean()\n",
    "print(loss)"
   ]
  },
  {
   "cell_type": "code",
   "execution_count": null,
   "metadata": {},
   "outputs": [],
   "source": [
    "ray.get(shared_memory.sample.remote(2,0.5))\n",
    "ray.get(shared_memory.size.remote())"
   ]
  },
  {
   "cell_type": "code",
   "execution_count": null,
   "metadata": {},
   "outputs": [],
   "source": [
    "import torch\n",
    "import numpy as np"
   ]
  },
  {
   "cell_type": "code",
   "execution_count": null,
   "metadata": {},
   "outputs": [],
   "source": [
    "from models import Qnet\n",
    "net = Qnet(84,84,4,6)\n",
    "net2 = Qnet(84,84,4,6).cuda()\n",
    "data = torch.rand((1,4,84,84))\n",
    "data2 = data.cuda()"
   ]
  },
  {
   "cell_type": "code",
   "execution_count": null,
   "metadata": {},
   "outputs": [],
   "source": [
    "%%time\n",
    "with torch.no_grad():\n",
    "    out = net(data).numpy()"
   ]
  },
  {
   "cell_type": "code",
   "execution_count": null,
   "metadata": {
    "scrolled": true
   },
   "outputs": [],
   "source": [
    "%%time\n",
    "with torch.no_grad():\n",
    "    out = net2(data2).cpu().numpy()"
   ]
  },
  {
   "cell_type": "code",
   "execution_count": null,
   "metadata": {},
   "outputs": [],
   "source": []
  }
 ],
 "metadata": {
  "kernelspec": {
   "display_name": "Python 3",
   "language": "python",
   "name": "python3"
  },
  "language_info": {
   "codemirror_mode": {
    "name": "ipython",
    "version": 3
   },
   "file_extension": ".py",
   "mimetype": "text/x-python",
   "name": "python",
   "nbconvert_exporter": "python",
   "pygments_lexer": "ipython3",
   "version": "3.7.0"
  }
 },
 "nbformat": 4,
 "nbformat_minor": 4
}
